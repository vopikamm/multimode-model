{
 "metadata": {
  "language_info": {
   "codemirror_mode": {
    "name": "ipython",
    "version": 3
   },
   "file_extension": ".py",
   "mimetype": "text/x-python",
   "name": "python",
   "nbconvert_exporter": "python",
   "pygments_lexer": "ipython3",
   "version": "3.9.4"
  },
  "orig_nbformat": 2,
  "kernelspec": {
   "name": "python394jvsc74a57bd015cfa96879b60a978da01605d1d36275f2f2a9ec63f7f65c5402bcf9ae693f19",
   "display_name": "Python 3.9.4 64-bit ('multimode-model': conda)"
  },
  "metadata": {
   "interpreter": {
    "hash": "15cfa96879b60a978da01605d1d36275f2f2a9ec63f7f65c5402bcf9ae693f19"
   }
  }
 },
 "nbformat": 4,
 "nbformat_minor": 2,
 "cells": [
  {
   "cell_type": "code",
   "execution_count": 139,
   "metadata": {},
   "outputs": [],
   "source": [
    "import numba\n",
    "import numpy as np\n",
    "from typing import Callable, Tuple, Any\n",
    "from inspect import signature\n",
    "\n",
    "import llvmlite.binding as llvm\n",
    "llvm.set_option('', '--debug-only=loop-vectorize')"
   ]
  },
  {
   "cell_type": "code",
   "execution_count": 102,
   "metadata": {},
   "outputs": [],
   "source": [
    "# define test data\n",
    "nx, ny = 10000, 10000\n",
    "dx = 1.\n",
    "g = 1.\n",
    "eta = np.random.rand(nx, ny)"
   ]
  },
  {
   "cell_type": "code",
   "execution_count": 103,
   "metadata": {},
   "outputs": [],
   "source": [
    "# Different numba options\n",
    "@numba.njit\n",
    "def _iterate_over_grid_2D_plain(\n",
    "    loop_body: Callable[..., float], ni: int, nj: int, args: Tuple[Any]\n",
    ") -> np.array:\n",
    "    result = np.empty((ni, nj))\n",
    "    for i in range(ni):\n",
    "        for j in range(nj):\n",
    "            result[i, j] = loop_body(*args, i, j, ni, nj)\n",
    "    return result\n",
    "\n",
    "\n",
    "@numba.njit\n",
    "def _zonal_pressure_gradient_loop_body_plain(\n",
    "    eta: np.array, g: float, dx: float, i: int, j: int, ni: int, nj: int\n",
    ") -> float:\n",
    "    ip1 = (i + 1) % ni\n",
    "    return -g * (eta[ip1, j] - eta[i, j]) / dx\n",
    "\n",
    "\n",
    "@numba.njit(fastmath=True)\n",
    "def _iterate_over_grid_2D_fastmath(\n",
    "    loop_body: Callable[..., float], ni: int, nj: int, args: Tuple[Any]\n",
    ") -> np.array:\n",
    "    result = np.empty((ni, nj))\n",
    "    for i in range(ni):\n",
    "        for j in range(nj):\n",
    "            result[i, j] = loop_body(*args, i, j, ni, nj)\n",
    "    return result\n",
    "\n",
    "\n",
    "@numba.njit(fastmath=True)\n",
    "def _zonal_pressure_gradient_loop_body_fastmath(\n",
    "    eta: np.array, g: float, dx: float, i: int, j: int, ni: int, nj: int\n",
    ") -> float:\n",
    "    ip1 = (i + 1) % ni\n",
    "    return -g * (eta[ip1, j] - eta[i, j]) / dx\n"
   ]
  },
  {
   "cell_type": "code",
   "execution_count": 104,
   "metadata": {},
   "outputs": [
    {
     "output_type": "stream",
     "name": "stdout",
     "text": [
      "612 ms ± 6.62 ms per loop (mean ± std. dev. of 7 runs, 1 loop each)\n"
     ]
    }
   ],
   "source": [
    "%timeit _iterate_over_grid_2D_plain(_zonal_pressure_gradient_loop_body_plain, nx, ny, (eta, g, dx))"
   ]
  },
  {
   "cell_type": "code",
   "execution_count": 105,
   "metadata": {},
   "outputs": [
    {
     "output_type": "stream",
     "name": "stdout",
     "text": [
      "662 ms ± 11.4 ms per loop (mean ± std. dev. of 7 runs, 1 loop each)\n"
     ]
    }
   ],
   "source": [
    "%timeit _iterate_over_grid_2D_fastmath(_zonal_pressure_gradient_loop_body_fastmath, nx, ny, (eta, g, dx))"
   ]
  },
  {
   "cell_type": "code",
   "execution_count": 155,
   "metadata": {},
   "outputs": [
    {
     "output_type": "stream",
     "name": "stdout",
     "text": [
      "474 ms ± 6.21 ms per loop (mean ± std. dev. of 7 runs, 1 loop each)\n"
     ]
    }
   ],
   "source": [
    "# impact of inlining\n",
    "@numba.njit\n",
    "def _iterate_over_grid_2D_manual_inlined(\n",
    "    ni: int, nj: int, eta: np.array, g: float, dx: float\n",
    ") -> np.array:\n",
    "    result = np.empty((ni, nj))\n",
    "    for i in range(ni):\n",
    "        for j in range(nj):\n",
    "            ip1 = (i + 1) % ni\n",
    "            result[i, j] = -g * (eta[ip1, j] - eta[i, j]) / dx\n",
    "    return result\n",
    "\n",
    "%timeit _iterate_over_grid_2D_manual_inlined(nx, ny, eta, g, dx)"
   ]
  },
  {
   "cell_type": "code",
   "execution_count": 107,
   "metadata": {},
   "outputs": [
    {
     "output_type": "stream",
     "name": "stdout",
     "text": [
      "619 ms ± 4.11 ms per loop (mean ± std. dev. of 7 runs, 1 loop each)\n"
     ]
    }
   ],
   "source": [
    "@numba.njit\n",
    "def _iterate_over_grid_2D_default_inline(\n",
    "    ni: int, nj: int, eta: np.array, g: float, dx: float\n",
    ") -> np.array:\n",
    "    result = np.empty((ni, nj))\n",
    "    for i in range(ni):\n",
    "        for j in range(nj):\n",
    "            result[i, j] = _zonal_pressure_gradient_loop_body_default_inline(eta, g, dx, i, j, ni, nj)\n",
    "    return result\n",
    "\n",
    "@numba.njit\n",
    "def _zonal_pressure_gradient_loop_body_default_inline(\n",
    "    eta: np.array, g: float, dx: float, i: int, j: int, ni: int, nj: int\n",
    ") -> float:\n",
    "    ip1 = (i + 1) % ni\n",
    "    return -g * (eta[ip1, j] - eta[i, j]) / dx\n",
    "\n",
    "%timeit _iterate_over_grid_2D_default_inline(nx, ny, eta, g, dx)"
   ]
  },
  {
   "cell_type": "code",
   "execution_count": 108,
   "metadata": {},
   "outputs": [
    {
     "output_type": "stream",
     "name": "stdout",
     "text": [
      "464 ms ± 2.67 ms per loop (mean ± std. dev. of 7 runs, 1 loop each)\n"
     ]
    }
   ],
   "source": [
    "@numba.njit()\n",
    "def _iterate_over_grid_2D_always_inline(\n",
    "    ni: int, nj: int, eta: np.array, g: float, dx: float\n",
    ") -> np.array:\n",
    "    result = np.empty((ni, nj))\n",
    "    for i in range(ni):\n",
    "        for j in range(nj):\n",
    "            result[i, j] = _zonal_pressure_gradient_loop_body_always_inline(eta, g, dx, i, j, ni, nj)\n",
    "    return result\n",
    "\n",
    "@numba.njit(inline='always')\n",
    "def _zonal_pressure_gradient_loop_body_always_inline(\n",
    "    eta: np.array, g: float, dx: float, i: int, j: int, ni: int, nj: int\n",
    ") -> float:\n",
    "    ip1 = (i + 1) % ni\n",
    "    return -g * (eta[ip1, j] - eta[i, j]) / dx\n",
    "\n",
    "%timeit _iterate_over_grid_2D_always_inline(nx, ny, eta, g, dx)"
   ]
  },
  {
   "cell_type": "code",
   "execution_count": 109,
   "metadata": {},
   "outputs": [
    {
     "output_type": "stream",
     "name": "stdout",
     "text": [
      "622 ms ± 4.13 ms per loop (mean ± std. dev. of 7 runs, 1 loop each)\n"
     ]
    }
   ],
   "source": [
    "@numba.njit\n",
    "def _iterate_over_grid_2D_callback(\n",
    "    loop_body: Callable[..., float],\n",
    "    ni: int, nj: int, eta: np.array, g: float, dx: float\n",
    ") -> np.array:\n",
    "    result = np.empty((ni, nj))\n",
    "    for i in range(ni):\n",
    "        for j in range(nj):\n",
    "            result[i, j] = loop_body(eta, g, dx, i, j, ni, nj)\n",
    "    return result\n",
    "\n",
    "%timeit _iterate_over_grid_2D_callback(_zonal_pressure_gradient_loop_body_always_inline, nx, ny, eta, g, dx)"
   ]
  },
  {
   "cell_type": "code",
   "execution_count": 110,
   "metadata": {},
   "outputs": [],
   "source": [
    "def _iterate_over_grid_2D_decorator(func):\n",
    "    @numba.njit\n",
    "    def wrapper(ni: int, nj: int, eta: np.array, g: float, dx: float):\n",
    "        result = np.empty((ni, nj))\n",
    "        for i in range(ni):\n",
    "            for j in range(nj):\n",
    "                result[i, j] = func(eta, g, dx, i, j, ni, nj)\n",
    "        return result\n",
    "    return wrapper\n",
    "\n",
    "_iterate_over_grid_2D_decorated = _iterate_over_grid_2D_decorator(_zonal_pressure_gradient_loop_body_always_inline)"
   ]
  },
  {
   "cell_type": "code",
   "execution_count": 111,
   "metadata": {},
   "outputs": [
    {
     "output_type": "stream",
     "name": "stdout",
     "text": [
      "469 ms ± 5.67 ms per loop (mean ± std. dev. of 7 runs, 1 loop each)\n"
     ]
    }
   ],
   "source": [
    "%timeit _iterate_over_grid_2D_decorated(nx, ny, eta, g, dx)"
   ]
  },
  {
   "cell_type": "code",
   "execution_count": 126,
   "metadata": {},
   "outputs": [],
   "source": [
    "\n",
    "def _make_2D_grid_iterator_vararg(func):\n",
    "    @numba.njit\n",
    "    def _interate_over_grid_2D(ni: int, nj: int, *args: Tuple[Any]):\n",
    "        result = np.empty((ni, nj))\n",
    "        for i in range(ni):\n",
    "            for j in range(nj):\n",
    "                f_args = (args[0], args[1], args[2], i, j, ni, nj)\n",
    "                result[i, j] = func(*f_args)\n",
    "        return result\n",
    "    return _interate_over_grid_2D\n",
    "\n",
    "_iterate_over_grid_2D_decorated_vararg = _make_2D_grid_iterator_vararg(_zonal_pressure_gradient_loop_body_always_inline)"
   ]
  },
  {
   "cell_type": "code",
   "execution_count": 144,
   "metadata": {},
   "outputs": [
    {
     "output_type": "execute_result",
     "data": {
      "text/plain": [
       "7"
      ]
     },
     "metadata": {},
     "execution_count": 144
    }
   ],
   "source": [
    "len(signature(_zonal_pressure_gradient_loop_body_always_inline).parameters)"
   ]
  },
  {
   "source": [
    "@numba.njit(inline='always')\n",
    "def expand_7_args(func: Callable[..., float], args: Tuple[Any]):\n",
    "    return func(args[0], args[1], args[2], args[3], args[4], args[5], args[6])\n",
    "\n",
    "def _make_2D_grid_iterator_vararg(func):\n",
    "    @numba.njit\n",
    "    def _interate_over_grid_2D(ni: int, nj: int, *args: Tuple[Any]):\n",
    "        result = np.empty((ni, nj))\n",
    "        for i in range(ni):\n",
    "            for j in range(nj):\n",
    "                f_args = (args[0], args[1], args[2], i, j, ni, nj)\n",
    "                result[i, j] = expand_7_args(func, f_args)\n",
    "        return result\n",
    "    return _interate_over_grid_2D\n",
    "\n",
    "_iterate_over_grid_2D_decorated_vararg = _make_2D_grid_iterator_vararg(_zonal_pressure_gradient_loop_body_always_inline)\n"
   ],
   "cell_type": "markdown",
   "metadata": {}
  },
  {
   "cell_type": "code",
   "execution_count": 158,
   "metadata": {},
   "outputs": [
    {
     "output_type": "stream",
     "name": "stdout",
     "text": [
      "485 ms ± 8.74 ms per loop (mean ± std. dev. of 7 runs, 1 loop each)\n"
     ]
    }
   ],
   "source": [
    "%timeit _iterate_over_grid_2D_decorated_vararg(nx, ny, eta, g, dx)"
   ]
  },
  {
   "cell_type": "code",
   "execution_count": 152,
   "metadata": {},
   "outputs": [
    {
     "output_type": "stream",
     "name": "stdout",
     "text": [
      "487 ms ± 4.85 ms per loop (mean ± std. dev. of 7 runs, 1 loop each)\n"
     ]
    }
   ],
   "source": [
    "def _make_2D_grid_iterator_vararg(func):\n",
    "    @numba.njit\n",
    "    def _interate_over_grid_2D(ni: int, nj: int, *args: Tuple[Any]):\n",
    "        result = np.empty((ni, nj))\n",
    "        for i in range(ni):\n",
    "            for j in range(nj):\n",
    "                f_args = (args[0], args[1], args[2], i, j, ni, nj)\n",
    "                result[i, j] = func(f_args)\n",
    "        return result\n",
    "    return _interate_over_grid_2D\n",
    "\n",
    "@numba.njit(inline='always')\n",
    "def _zonal_pressure_gradient_loop_body_inline_vararg(\n",
    "    args: Tuple[Any]\n",
    "    # eta: np.array, g: float, dx: float, i: int, j: int, ni: int, nj: int\n",
    ") -> float:\n",
    "    eta, g, dx, i, j, ni, nj = args\n",
    "    ip1 = (i + 1) % ni\n",
    "    return -g * (eta[ip1, j] - eta[i, j]) / dx\n",
    "\n",
    "_iterate_over_grid_2D_decorated_vararg = _make_2D_grid_iterator_vararg(_zonal_pressure_gradient_loop_body_inline_vararg)\n",
    "\n",
    "%timeit _iterate_over_grid_2D_decorated_vararg(nx, ny, eta, g, dx)"
   ]
  },
  {
   "cell_type": "code",
   "execution_count": 167,
   "metadata": {},
   "outputs": [
    {
     "output_type": "stream",
     "name": "stdout",
     "text": [
      "459 ms ± 4.64 ms per loop (mean ± std. dev. of 7 runs, 1 loop each)\n"
     ]
    }
   ],
   "source": [
    "@numba.njit(inline='always')\n",
    "def expand_7_arguments(func, i, j, ni, nj, args):\n",
    "    return func(i, j, ni, nj, args[0], args[1], args[2])\n",
    "\n",
    "@numba.njit(inline='always')\n",
    "def expand_6_arguments(func, i, j, ni, nj, args):\n",
    "    return func(i, j, ni, nj, args[0], args[1])\n",
    "\n",
    "_arg_expand_map = {\n",
    "    6: expand_6_arguments,\n",
    "    7: expand_7_arguments,\n",
    "}\n",
    "\n",
    "def _make_2D_grid_iterator(func):\n",
    "    exp_args = _arg_expand_map[len(signature(func).parameters)]\n",
    "\n",
    "    @numba.njit\n",
    "    def _interate_over_grid_2D(ni: int, nj: int, *args: Tuple[Any]):\n",
    "        result = np.empty((ni, nj))\n",
    "        for i in range(ni):\n",
    "            for j in range(nj):\n",
    "                result[i, j] = exp_args(func, i, j, ni, nj, args)\n",
    "        return result\n",
    "    return _interate_over_grid_2D\n",
    "\n",
    "@numba.njit(inline='always')\n",
    "def _loop_body(\n",
    "    i: int, j: int, ni: int, nj: int, eta: np.array, g: float, dx: float\n",
    ") -> float:\n",
    "    ip1 = (i + 1) % ni\n",
    "    return -g * (eta[ip1, j] - eta[i, j]) / dx\n",
    "\n",
    "_grid_iterator = _make_2D_grid_iterator(_loop_body)\n",
    "\n",
    "%timeit _grid_iterator(nx, ny, eta, g, dx)"
   ]
  },
  {
   "cell_type": "code",
   "execution_count": null,
   "metadata": {},
   "outputs": [],
   "source": []
  },
  {
   "cell_type": "code",
   "execution_count": null,
   "metadata": {},
   "outputs": [],
   "source": []
  }
 ]
}