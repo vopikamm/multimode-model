{
 "metadata": {
  "language_info": {
   "codemirror_mode": {
    "name": "ipython",
    "version": 3
   },
   "file_extension": ".py",
   "mimetype": "text/x-python",
   "name": "python",
   "nbconvert_exporter": "python",
   "pygments_lexer": "ipython3",
   "version": "3.9.4"
  },
  "orig_nbformat": 2,
  "kernelspec": {
   "name": "python394jvsc74a57bd015cfa96879b60a978da01605d1d36275f2f2a9ec63f7f65c5402bcf9ae693f19",
   "display_name": "Python 3.9.4 64-bit ('multimode-model': conda)"
  },
  "metadata": {
   "interpreter": {
    "hash": "15cfa96879b60a978da01605d1d36275f2f2a9ec63f7f65c5402bcf9ae693f19"
   }
  }
 },
 "nbformat": 4,
 "nbformat_minor": 2,
 "cells": [
  {
   "cell_type": "code",
   "execution_count": 1,
   "metadata": {},
   "outputs": [],
   "source": [
    "import numba\n",
    "import numpy as np\n",
    "from typing import Callable, Tuple, Any"
   ]
  },
  {
   "cell_type": "code",
   "execution_count": 22,
   "metadata": {},
   "outputs": [],
   "source": [
    "# define test data\n",
    "nx, ny = 10000, 10000\n",
    "dx = 1.\n",
    "g = 1.\n",
    "eta = np.random.rand(nx, ny)"
   ]
  },
  {
   "cell_type": "code",
   "execution_count": 23,
   "metadata": {},
   "outputs": [],
   "source": [
    "# Different numba options\n",
    "@numba.njit\n",
    "def _iterate_over_grid_2D_plain(\n",
    "    loop_body: Callable[..., float], ni: int, nj: int, args: Tuple[Any]\n",
    ") -> np.array:\n",
    "    result = np.empty((ni, nj))\n",
    "    for i in range(ni):\n",
    "        for j in range(nj):\n",
    "            result[i, j] = loop_body(*args, i, j, ni, nj)\n",
    "    return result\n",
    "\n",
    "\n",
    "@numba.njit\n",
    "def _zonal_pressure_gradient_loop_body_plain(\n",
    "    eta: np.array, g: float, dx: float, i: int, j: int, ni: int, nj: int\n",
    ") -> float:\n",
    "    ip1 = (i + 1) % ni\n",
    "    return -g * (eta[ip1, j] - eta[i, j]) / dx\n",
    "\n",
    "\n",
    "@numba.njit(fastmath=True)\n",
    "def _iterate_over_grid_2D_fastmath(\n",
    "    loop_body: Callable[..., float], ni: int, nj: int, args: Tuple[Any]\n",
    ") -> np.array:\n",
    "    result = np.empty((ni, nj))\n",
    "    for i in range(ni):\n",
    "        for j in range(nj):\n",
    "            result[i, j] = loop_body(*args, i, j, ni, nj)\n",
    "    return result\n",
    "\n",
    "\n",
    "@numba.njit(fastmath=True)\n",
    "def _zonal_pressure_gradient_loop_body_fastmath(\n",
    "    eta: np.array, g: float, dx: float, i: int, j: int, ni: int, nj: int\n",
    ") -> float:\n",
    "    ip1 = (i + 1) % ni\n",
    "    return -g * (eta[ip1, j] - eta[i, j]) / dx\n"
   ]
  },
  {
   "cell_type": "code",
   "execution_count": 34,
   "metadata": {},
   "outputs": [
    {
     "output_type": "stream",
     "name": "stdout",
     "text": [
      "618 ms ± 5.42 ms per loop (mean ± std. dev. of 7 runs, 1 loop each)\n"
     ]
    }
   ],
   "source": [
    "%timeit _iterate_over_grid_2D_plain(_zonal_pressure_gradient_loop_body_plain, nx, ny, (eta, g, dx))"
   ]
  },
  {
   "cell_type": "code",
   "execution_count": 26,
   "metadata": {},
   "outputs": [
    {
     "output_type": "stream",
     "name": "stdout",
     "text": [
      "640 ms ± 7.29 ms per loop (mean ± std. dev. of 7 runs, 1 loop each)\n"
     ]
    }
   ],
   "source": [
    "%timeit _iterate_over_grid_2D_fastmath(_zonal_pressure_gradient_loop_body_fastmath, nx, ny, (eta, g, dx))"
   ]
  },
  {
   "cell_type": "code",
   "execution_count": 40,
   "metadata": {},
   "outputs": [
    {
     "output_type": "stream",
     "name": "stdout",
     "text": [
      "474 ms ± 10.9 ms per loop (mean ± std. dev. of 7 runs, 1 loop each)\n"
     ]
    }
   ],
   "source": [
    "# impact of inlining\n",
    "@numba.njit\n",
    "def _iterate_over_grid_2D_manual_inlined(\n",
    "    ni: int, nj: int, eta: np.array, g: float, dx: float\n",
    ") -> np.array:\n",
    "    result = np.empty((ni, nj))\n",
    "    for i in range(ni):\n",
    "        for j in range(nj):\n",
    "            ip1 = (i + 1) % ni\n",
    "            result[i, j] = -g * (eta[ip1, j] - eta[i, j]) / dx\n",
    "    return result\n",
    "\n",
    "%timeit _iterate_over_grid_2D_manual_inlined(nx, ny, eta, g, dx)"
   ]
  },
  {
   "cell_type": "code",
   "execution_count": 52,
   "metadata": {},
   "outputs": [
    {
     "output_type": "stream",
     "name": "stdout",
     "text": [
      "491 ms ± 3.77 ms per loop (mean ± std. dev. of 7 runs, 1 loop each)\n"
     ]
    }
   ],
   "source": [
    "@numba.njit\n",
    "def _iterate_over_grid_2D_inlined(\n",
    "    ni: int, nj: int, eta: np.array, g: float, dx: float\n",
    ") -> np.array:\n",
    "    result = np.empty((ni, nj))\n",
    "    for i in range(ni):\n",
    "        for j in range(nj):\n",
    "            result[i, j] = _zonal_pressure_gradient_loop_body_inline(eta, g, dx, i, j, ni, nj)\n",
    "    return result\n",
    "\n",
    "\n",
    "@numba.njit(inline='always')\n",
    "def _zonal_pressure_gradient_loop_body_inline(\n",
    "    eta: np.array, g: float, dx: float, i: int, j: int, ni: int, nj: int\n",
    ") -> float:\n",
    "    ip1 = (i + 1) % ni\n",
    "    return -g * (eta[ip1, j] - eta[i, j]) / dx\n",
    "\n",
    "%timeit _iterate_over_grid_2D_inlined(nx, ny, eta, g, dx)"
   ]
  },
  {
   "cell_type": "code",
   "execution_count": 39,
   "metadata": {},
   "outputs": [
    {
     "output_type": "stream",
     "name": "stdout",
     "text": [
      "468 ms ± 2.82 ms per loop (mean ± std. dev. of 7 runs, 1 loop each)\n"
     ]
    }
   ],
   "source": []
  },
  {
   "cell_type": "code",
   "execution_count": null,
   "metadata": {},
   "outputs": [],
   "source": []
  }
 ]
}