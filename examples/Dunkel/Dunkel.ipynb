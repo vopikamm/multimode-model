{
 "cells": [
  {
   "cell_type": "code",
   "execution_count": null,
   "metadata": {},
   "outputs": [],
   "source": [
    "from matplotlib import pyplot as plt\n",
    "import xarray as xr\n",
    "import numpy as np"
   ]
  },
  {
   "cell_type": "code",
   "execution_count": null,
   "metadata": {},
   "outputs": [],
   "source": [
    "Nsq = np.load('Nsq.npy', allow_pickle=True)\n",
    "depth = Nsq[1, :]\n",
    "Nsq = Nsq[0, :]"
   ]
  },
  {
   "cell_type": "code",
   "execution_count": null,
   "metadata": {},
   "outputs": [],
   "source": [
    "from  multimodemodel import StaggeredGrid\n",
    "\n",
    "nmodes = 25\n",
    "\n",
    "c_grid = StaggeredGrid.regular_lat_lon_c_grid(\n",
    "    lon_start=-50.0,\n",
    "    lon_end=0.0,\n",
    "    lat_start=-10.0,\n",
    "    lat_end=10.0,\n",
    "    nx=50 * 4 + 1,\n",
    "    ny=20 * 4 + 1,\n",
    "    z = np.arange(nmodes)\n",
    ")"
   ]
  },
  {
   "cell_type": "code",
   "execution_count": null,
   "metadata": {},
   "outputs": [],
   "source": [
    "from multimodemodel import MultimodeParameters, f_on_sphere\n",
    "multimode_params = MultimodeParameters(z=depth, Nsq=Nsq, nmodes=nmodes, coriolis_func=f_on_sphere(omega=7.272205e-05), on_grid=c_grid, no_slip=True)"
   ]
  },
  {
   "cell_type": "code",
   "execution_count": null,
   "metadata": {},
   "outputs": [],
   "source": [
    "ds = multimode_params.as_dataset"
   ]
  },
  {
   "cell_type": "code",
   "execution_count": null,
   "metadata": {},
   "outputs": [],
   "source": [
    "a = np.gradient(ds.dpsi_dz, depth, axis=0)"
   ]
  },
  {
   "cell_type": "code",
   "execution_count": null,
   "metadata": {},
   "outputs": [],
   "source": [
    "a.shape"
   ]
  },
  {
   "cell_type": "code",
   "execution_count": null,
   "metadata": {},
   "outputs": [],
   "source": [
    " b = ds.Nsq[0] * ds.psi[0,:] / ds.c**2"
   ]
  },
  {
   "cell_type": "code",
   "execution_count": null,
   "metadata": {},
   "outputs": [],
   "source": [
    "ds.psi.plot(x='nmode', y='depth')"
   ]
  },
  {
   "cell_type": "code",
   "execution_count": null,
   "metadata": {},
   "outputs": [],
   "source": [
    "ds.dpsi_dz.plot(x='nmode', y='depth')"
   ]
  },
  {
   "cell_type": "code",
   "execution_count": null,
   "metadata": {},
   "outputs": [],
   "source": [
    "import math as m\n",
    "def plot_tensors(tensor: np.ndarray):\n",
    "    fig, axs = plt.subplots(2, 2, figsize=(15, 10), tight_layout=True)\n",
    "    nmodes = tensor.shape[0]\n",
    "    ks = []\n",
    "    for i in range(4):\n",
    "        ax =np.ravel(axs)[i]\n",
    "        k = (i+1) * m.floor(nmodes / 4) - 1\n",
    "        plot = ax.pcolormesh(tensor[k, :, :])\n",
    "        fig.colorbar(plot, ax=ax)\n",
    "        ax.set_title('Modenumber ' + str(k))"
   ]
  },
  {
   "cell_type": "code",
   "execution_count": null,
   "metadata": {},
   "outputs": [],
   "source": [
    "plot_tensors(multimode_params.Q)"
   ]
  },
  {
   "cell_type": "code",
   "execution_count": null,
   "metadata": {},
   "outputs": [],
   "source": [
    "plot_tensors(multimode_params.R)"
   ]
  },
  {
   "cell_type": "code",
   "execution_count": null,
   "metadata": {},
   "outputs": [],
   "source": [
    "plot_tensors(multimode_params.S)"
   ]
  },
  {
   "cell_type": "code",
   "execution_count": null,
   "metadata": {},
   "outputs": [],
   "source": [
    "plot_tensors(multimode_params.T)"
   ]
  },
  {
   "cell_type": "code",
   "execution_count": null,
   "metadata": {},
   "outputs": [],
   "source": [
    "H =abs(depth[0] - depth[-1])\n",
    "A = 1.33e-7 / H\n",
    "gamma = A / ds.c.values**2\n",
    "multimode_params.gamma = gamma"
   ]
  },
  {
   "cell_type": "code",
   "execution_count": null,
   "metadata": {},
   "outputs": [],
   "source": [
    "def tau(x, y):\n",
    "    \"\"\"\"Wind field according to Mccreary (1980).\"\"\"\n",
    "    delta_x = abs(x[0, 0] - x[0, -1]) / 2\n",
    "    delta_y = abs(y[0, 0] - y[-1, 0]) / 2\n",
    "\n",
    "    wind_x = np.cos(np.pi * x / delta_x)\n",
    "    wind_x[abs(x) > delta_x / 2] = 0\n",
    "\n",
    "    wind_y = (1 + y**2 / delta_y**2) * np.exp( - y**2 / delta_y**2)\n",
    "\n",
    "    return -5e-6 * wind_x * wind_y"
   ]
  },
  {
   "cell_type": "code",
   "execution_count": null,
   "metadata": {},
   "outputs": [],
   "source": [
    "# from multimodemodel import Parameters, f_on_sphere\n",
    "# params = []\n",
    "# for i in range(multimode_params.nmodes):\n",
    "#     params.append(\n",
    "#         Parameters(\n",
    "#             coriolis_func=f_on_sphere(omega=7.272205e-05),\n",
    "#             on_grid=c_grid,\n",
    "#             H=np.array([ds.H.values[i]]),\n",
    "#             gamma = np.array([gamma[i]]),\n",
    "#         )\n",
    "#     )"
   ]
  },
  {
   "cell_type": "code",
   "execution_count": null,
   "metadata": {},
   "outputs": [],
   "source": [
    "from multimodemodel import (\n",
    "    State, Variable,\n",
    " )\n",
    "\n",
    "tau_x = np.empty(c_grid.u.shape)\n",
    "for k in range(nmodes):\n",
    "    tau_x[k, :, :] = - 0.05 * ds.psi.values[0, k]\n",
    "\n",
    "tau_x *= c_grid.u.mask\n",
    "\n",
    "def zonal_wind(state, params):\n",
    "    return State(u=Variable(tau_x /  params.rho_0 / H, c_grid.u, np.datetime64(\"NaT\")));"
   ]
  },
  {
   "cell_type": "code",
   "execution_count": null,
   "metadata": {},
   "outputs": [],
   "source": [
    "import functools as ft\n",
    "import operator as op\n",
    "from multimodemodel import (\n",
    "    pressure_gradient_i, pressure_gradient_j,\n",
    "    coriolis_i, coriolis_j,\n",
    "    divergence_i, divergence_j,\n",
    "    laplacian_mixing_u, laplacian_mixing_v,\n",
    "    linear_damping_eta, linear_damping_u,\n",
    "    linear_damping_v, advection_density,\n",
    "    advection_momentum_u, advection_momentum_v,\n",
    ")\n",
    "\n",
    "terms = [\n",
    "    pressure_gradient_i, pressure_gradient_j,\n",
    "    coriolis_i, coriolis_j,\n",
    "    divergence_i, divergence_j,\n",
    "    laplacian_mixing_u, laplacian_mixing_v,\n",
    "    linear_damping_u, linear_damping_v,\n",
    "    linear_damping_eta, \n",
    "    advection_density,\n",
    "    advection_momentum_u, advection_momentum_v,\n",
    "    zonal_wind\n",
    "]\n",
    "\n",
    "def rhs(state, params):\n",
    "    w = (divergence_j(state, params) + divergence_i(state, params)).eta.safe_data\n",
    "    state.set_diagnostic_variable(w=Variable(w, c_grid.eta, state.eta.time))\n",
    "    return ft.reduce(op.add, (term(state, params) for term in terms))"
   ]
  },
  {
   "cell_type": "code",
   "execution_count": null,
   "metadata": {},
   "outputs": [],
   "source": [
    "def save_as_Dataset(state: State, params: MultimodeParameters):\n",
    "    ds = state.variables[\"u\"].as_dataarray.to_dataset(name='u_tilde')\n",
    "    ds['v_tilde'] = state.variables[\"v\"].as_dataarray\n",
    "    ds['h_tilde'] = state.variables[\"eta\"].as_dataarray\n",
    "    x = ([\"j\", \"i\"], (state.u.grid.x + state.v.grid.x) / 2)\n",
    "    y = ([\"j\", \"i\"], (state.u.grid.y + state.v.grid.y) / 2)\n",
    "    ds.assign_coords({\"x\": x, \"y\": y})\n",
    "    return ds"
   ]
  },
  {
   "cell_type": "code",
   "execution_count": null,
   "metadata": {},
   "outputs": [],
   "source": [
    "from multimodemodel import integrate, adams_bashforth3\n",
    "\n",
    "time = 10 * 24 * 3600.  # 1 year\n",
    "step = c_grid.u.dx.min() / ds.c.values.max() / 10.\n",
    "t0 = np.datetime64(\"2000-01-01\")"
   ]
  },
  {
   "cell_type": "code",
   "execution_count": null,
   "metadata": {},
   "outputs": [],
   "source": [
    "def run(params, step, time):\n",
    "    model_run = integrate(\n",
    "        State(\n",
    "            u=Variable(None, c_grid.u, t0),\n",
    "            v=Variable(None, c_grid.v, t0),\n",
    "            eta=Variable(None, c_grid.eta, t0),\n",
    "            q=Variable(None, c_grid.q, t0)\n",
    "        ),\n",
    "        params,\n",
    "        RHS=rhs,\n",
    "        scheme=adams_bashforth3,\n",
    "        step=step,\n",
    "        time=time,\n",
    "    )\n",
    "    \n",
    "    Nt = time // step\n",
    "\n",
    "    output = []\n",
    "\n",
    "    tolerance = 10.\n",
    "    for i, next_state in enumerate(model_run):\n",
    "        if i % (Nt // 5) == 0:\n",
    "            output.append(save_as_Dataset(next_state, params))\n",
    "        if np.nanmax(abs(next_state.variables[\"u\"].safe_data)) > tolerance:\n",
    "            output.append(save_as_Dataset(next_state, params))\n",
    "            tolerance += 1.\n",
    "        if tolerance > 20.:\n",
    "            return xr.combine_by_coords(output)\n",
    "    \n",
    "    \n",
    "    return xr.combine_by_coords(output)"
   ]
  },
  {
   "cell_type": "code",
   "execution_count": null,
   "metadata": {},
   "outputs": [],
   "source": [
    "# from multiprocessing import Pool\n",
    "\n",
    "# pool = Pool()\n",
    "# out = pool.map(run, params)"
   ]
  },
  {
   "cell_type": "code",
   "execution_count": null,
   "metadata": {},
   "outputs": [],
   "source": [
    "\n",
    "out = run(multimode_params, step=step, time=time)"
   ]
  },
  {
   "cell_type": "code",
   "execution_count": null,
   "metadata": {},
   "outputs": [],
   "source": [
    "out = out.rename({'z':'nmode'})"
   ]
  },
  {
   "cell_type": "code",
   "execution_count": null,
   "metadata": {},
   "outputs": [],
   "source": [
    "out['u'] = xr.dot(ds.psi, out.u_tilde)\n",
    "out['v'] = xr.dot(ds.psi, out.v_tilde)\n",
    "out['h'] = xr.dot(ds.psi, out.h_tilde)"
   ]
  },
  {
   "cell_type": "code",
   "execution_count": null,
   "metadata": {},
   "outputs": [],
   "source": [
    "from matplotlib import colors\n",
    "out.v_tilde.isel(i = 100, time =5).plot.pcolormesh(x='nmode', y='y', cmap='RdBu_r', figsize=(20,10))"
   ]
  },
  {
   "cell_type": "code",
   "execution_count": null,
   "metadata": {},
   "outputs": [],
   "source": [
    "out.u.isel(j=20,i = slice(0,20), depth = slice(50,200), time=3).plot.pcolormesh(x='x', y='depth', cmap='RdBu_r', figsize=(20,10), norm=);"
   ]
  },
  {
   "cell_type": "code",
   "execution_count": null,
   "metadata": {},
   "outputs": [],
   "source": [
    "test_state = State(\n",
    "    u=Variable(out.u_tilde.isel(time=5).values, c_grid.u, t0),\n",
    "    v=Variable(out.u_tilde.isel(time=5).values, c_grid.v, t0),\n",
    "    eta=Variable(out.u_tilde.isel(time=5).values, c_grid.eta, t0),\n",
    "    q=Variable(out.u_tilde.isel(time=5).values, c_grid.q, t0)\n",
    ")\n",
    "w = (divergence_j(test_state, multimode_params) + divergence_i(test_state, multimode_params)).eta.safe_data\n",
    "test_state.set_diagnostic_variable(w=Variable(w, c_grid.eta, test_state.eta.time))\n",
    "\n",
    "zero_state = State(\n",
    "    u=Variable(np.zeros(c_grid.u.shape), c_grid.u, t0),\n",
    "    v=Variable(np.zeros(c_grid.u.shape), c_grid.v, t0),\n",
    "    eta=Variable(np.zeros(c_grid.u.shape), c_grid.eta, t0),\n",
    "    q=Variable(np.zeros(c_grid.u.shape), c_grid.q, t0)\n",
    ")"
   ]
  },
  {
   "cell_type": "code",
   "execution_count": null,
   "metadata": {},
   "outputs": [],
   "source": [
    "term = 0\n",
    "for func in terms:\n",
    "    next_state = zero_state +  func(test_state, multimode_params)\n",
    "    print(term)\n",
    "    print(np.nanmax(abs(next_state.variables[\"u\"].safe_data)))\n",
    "    print(np.nanmax(abs(next_state.variables[\"v\"].safe_data)))\n",
    "    print(np.nanmax(abs(next_state.variables[\"eta\"].safe_data)))\n",
    "    term += 1"
   ]
  }
 ],
 "metadata": {
  "interpreter": {
   "hash": "6a1e5399f33439ff7bab3991b5082280fdc1b922d3d8f97eb31cf7a3ee17bdb2"
  },
  "kernelspec": {
   "display_name": "Python 3.8.5 64-bit ('Thesis': conda)",
   "language": "python",
   "name": "python3"
  },
  "language_info": {
   "codemirror_mode": {
    "name": "ipython",
    "version": 3
   },
   "file_extension": ".py",
   "mimetype": "text/x-python",
   "name": "python",
   "nbconvert_exporter": "python",
   "pygments_lexer": "ipython3",
   "version": "3.8.12"
  },
  "orig_nbformat": 4
 },
 "nbformat": 4,
 "nbformat_minor": 2
}
