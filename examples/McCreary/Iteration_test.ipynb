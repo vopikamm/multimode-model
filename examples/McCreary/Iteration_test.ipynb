{
 "cells": [
  {
   "cell_type": "code",
   "execution_count": 1,
   "metadata": {},
   "outputs": [],
   "source": [
    "from multimodemodel import laplacian_mixing_u, _numba_2D_grid_iterator, _cyclic_shift, State, Parameters, Variable\n",
    "import numpy as np\n",
    "from tqdm import tqdm as progressbar"
   ]
  },
  {
   "cell_type": "code",
   "execution_count": 2,
   "metadata": {},
   "outputs": [],
   "source": [
    "@_numba_2D_grid_iterator\n",
    "def _laplacian_mixing_u_2D(\n",
    "    i: int,\n",
    "    j: int,\n",
    "    ni: int,\n",
    "    nj: int,\n",
    "    u: np.ndarray,\n",
    "    mask_u: np.ndarray,\n",
    "    mask_q: np.ndarray,\n",
    "    dx_u: np.ndarray,\n",
    "    dy_u: np.ndarray,\n",
    "    dx_q: np.ndarray,\n",
    "    dy_q: np.ndarray,\n",
    "    dx_eta: np.ndarray,\n",
    "    dy_eta: np.ndarray,\n",
    "    lbc: int,\n",
    "    a_h: float,\n",
    ") -> float:  # pragma: no cover\n",
    "    \"\"\"Compute laplacian diffusion of u.\"\"\"\n",
    "    ip1 = _cyclic_shift(i, ni, 1)\n",
    "    im1 = _cyclic_shift(i, ni, -1)\n",
    "    jp1 = _cyclic_shift(j, nj, 1)\n",
    "    jm1 = _cyclic_shift(j, nj, -1)\n",
    "\n",
    "    if mask_q[0, j, i] == 0:\n",
    "        lbc_j = lbc\n",
    "    else:\n",
    "        lbc_j = 1\n",
    "\n",
    "    if mask_q[0, jp1, i] == 0:\n",
    "        lbc_jp1 = lbc\n",
    "    else:\n",
    "        lbc_jp1 = 1\n",
    "\n",
    "    return (\n",
    "        a_h\n",
    "        * mask_u[0, j, i]\n",
    "        * (\n",
    "            (dy_eta[j, i] / dx_eta[j, i])\n",
    "            * (mask_u[0, j, ip1] * u[0, j, ip1] - mask_u[0, j, i] * u[0, j, i])\n",
    "            - (dy_eta[j, im1] / dx_eta[j, im1])\n",
    "            * (mask_u[0, j, i] * u[0, j, i] - mask_u[0, j, im1] * u[0, j, im1])\n",
    "            + (dx_q[jp1, i] / dy_q[jp1, i])\n",
    "            * lbc_jp1\n",
    "            * (mask_u[0, jp1, i] * u[0, jp1, i] - mask_u[0, j, i] * u[0, j, i])\n",
    "            - (dx_q[j, i] / dx_q[j, i])\n",
    "            * lbc_j\n",
    "            * (mask_u[0, j, i] * u[0, j, i] - mask_u[0, jm1, i] * u[0, jm1, i])\n",
    "        )\n",
    "        / dx_u[j, i]\n",
    "        / dy_u[j, i]\n",
    "    )\n",
    "\n",
    "def laplacian_mixing_u_2D(state: State, params: Parameters) -> State:\n",
    "    \"\"\"Compute laplacian diffusion of zonal velocities.\"\"\"\n",
    "    grid = state.variables[\"u\"].grid\n",
    "    lbc = 2 * params.no_slip\n",
    "    args = (\n",
    "        grid.shape[grid.dim_x],\n",
    "        grid.shape[grid.dim_y],\n",
    "        state.variables[\"u\"].safe_data,\n",
    "        state.variables[\"u\"].grid.mask,\n",
    "        state.variables[\"q\"].grid.mask,\n",
    "        state.variables[\"eta\"].grid.dx,\n",
    "        state.variables[\"eta\"].grid.dy,\n",
    "        state.variables[\"u\"].grid.dx,\n",
    "        state.variables[\"u\"].grid.dy,\n",
    "        state.variables[\"v\"].grid.dx,\n",
    "        state.variables[\"v\"].grid.dy,\n",
    "        lbc,\n",
    "        params.a_h,\n",
    "    )\n",
    "    return State(\n",
    "        u=Variable(\n",
    "            _laplacian_mixing_u_2D(*args),\n",
    "            grid,\n",
    "            state.variables[\"u\"].time,\n",
    "        )\n",
    "    )"
   ]
  },
  {
   "cell_type": "code",
   "execution_count": 3,
   "metadata": {},
   "outputs": [],
   "source": [
    "from  multimodemodel import StaggeredGrid\n",
    "\n",
    "c_grid = StaggeredGrid.regular_lat_lon_c_grid(\n",
    "    lon_start=-50.0,\n",
    "    lon_end=50.0,\n",
    "    lat_start=-5.0,\n",
    "    lat_end=5.0,\n",
    "    nx=100 * 4 + 1,\n",
    "    ny=10 * 4 + 1,\n",
    "    z = np.array([0])\n",
    ")"
   ]
  },
  {
   "cell_type": "code",
   "execution_count": 4,
   "metadata": {},
   "outputs": [],
   "source": [
    "from multimodemodel import Parameters, f_on_sphere\n",
    "params = Parameters(\n",
    "    coriolis_func=f_on_sphere(omega=7.272205e-05),\n",
    "    on_grid=c_grid,\n",
    "    H=np.array([1e3]),\n",
    "    gamma = np.array([1e-3]),\n",
    ")"
   ]
  },
  {
   "cell_type": "code",
   "execution_count": 5,
   "metadata": {},
   "outputs": [],
   "source": [
    "eta = np.expand_dims(np.exp(-((c_grid.eta.x) ** 2 + (c_grid.eta.y - 2.5) ** 2) / 10. ** 2), 0)"
   ]
  },
  {
   "cell_type": "code",
   "execution_count": 6,
   "metadata": {},
   "outputs": [],
   "source": [
    "t0 = np.datetime64(\"2001-01-01 00:00\")"
   ]
  },
  {
   "cell_type": "code",
   "execution_count": 13,
   "metadata": {},
   "outputs": [],
   "source": [
    "from multimodemodel import integrate, adams_bashforth3\n",
    "\n",
    "model_run_2D = integrate(\n",
    "    State(\n",
    "        u=Variable(None, c_grid.u, t0),\n",
    "        v=Variable(None, c_grid.v, t0),\n",
    "        eta=Variable(eta, c_grid.eta, t0),\n",
    "        q=Variable(None, c_grid.q, t0)\n",
    "    ),\n",
    "    params,\n",
    "    RHS=laplacian_mixing_u_2D,\n",
    "    scheme=adams_bashforth3,\n",
    "    step=0.05,\n",
    "    time=1.0,\n",
    ")\n",
    "\n",
    "model_run_3D = integrate(\n",
    "    State(\n",
    "        u=Variable(None, c_grid.u, t0),\n",
    "        v=Variable(None, c_grid.v, t0),\n",
    "        eta=Variable(eta, c_grid.eta, t0),\n",
    "        q=Variable(None, c_grid.q, t0)\n",
    "    ),\n",
    "    params,\n",
    "    RHS=laplacian_mixing_u,\n",
    "    scheme=adams_bashforth3,\n",
    "    step=0.05,\n",
    "    time=1.0,\n",
    ")"
   ]
  },
  {
   "cell_type": "code",
   "execution_count": 14,
   "metadata": {},
   "outputs": [
    {
     "name": "stdout",
     "output_type": "stream",
     "text": [
      "The slowest run took 382.49 times longer than the fastest. This could mean that an intermediate result is being cached.\n",
      "3.96 µs ± 11.6 µs per loop (mean ± std. dev. of 10 runs, 1000 loops each)\n"
     ]
    }
   ],
   "source": [
    "%%timeit -r 10 -n 1000\n",
    "for i, next_state in enumerate(model_run_3D):\n",
    "    pass"
   ]
  },
  {
   "cell_type": "code",
   "execution_count": 15,
   "metadata": {},
   "outputs": [
    {
     "name": "stdout",
     "output_type": "stream",
     "text": [
      "The slowest run took 303.33 times longer than the fastest. This could mean that an intermediate result is being cached.\n",
      "3.61 µs ± 10.5 µs per loop (mean ± std. dev. of 10 runs, 1000 loops each)\n"
     ]
    }
   ],
   "source": [
    "%%timeit -r 10 -n 1000\n",
    "for i, next_state_2D in enumerate(model_run_2D):\n",
    "    pass"
   ]
  },
  {
   "cell_type": "code",
   "execution_count": null,
   "metadata": {},
   "outputs": [],
   "source": []
  }
 ],
 "metadata": {
  "interpreter": {
   "hash": "31f2aee4e71d21fbe5cf8b01ff0e069b9275f58929596ceb00d14d90e3e16cd6"
  },
  "kernelspec": {
   "display_name": "Python 3.8.10 64-bit",
   "language": "python",
   "name": "python3"
  },
  "language_info": {
   "codemirror_mode": {
    "name": "ipython",
    "version": 3
   },
   "file_extension": ".py",
   "mimetype": "text/x-python",
   "name": "python",
   "nbconvert_exporter": "python",
   "pygments_lexer": "ipython3",
   "version": "3.8.5"
  },
  "orig_nbformat": 4
 },
 "nbformat": 4,
 "nbformat_minor": 2
}
