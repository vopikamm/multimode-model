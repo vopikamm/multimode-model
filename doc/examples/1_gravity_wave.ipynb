{
 "cells": [
  {
   "cell_type": "markdown",
   "metadata": {
    "raw_mimetype": "text/restructuredtext",
    "tags": []
   },
   "source": [
    "# Shallow water gravity wave\n",
    "\n",
    "This example is to demonstrate how to simulate shallow water gravity waves in a 2D domain enclosed by solid walls.\n",
    "The fluid is represented by a single homogeneous layer of which the progostic variables are\n",
    "\n",
    "- u: velocity component in x direction\n",
    "- v: velocity component in y direction\n",
    "- $\\eta$: displacement of the interface hight, proportional to bottom pressure anomaly\n",
    "\n",
    "The motion is governed by the following equations\n",
    "\n",
    "- momentum equation along the x direction:\n",
    "\n",
    "  $\\frac{\\partial u}{\\partial t} = -g\\frac{\\partial \\eta}{\\partial x}$\n",
    "\n",
    "- momentum equation along the y direction:\n",
    "\n",
    "  $\\frac{\\partial v}{\\partial t} = -g\\frac{\\partial \\eta}{\\partial y}$\n",
    "\n",
    "- the continuity equation:\n",
    "\n",
    "  $\\frac{\\partial \\eta}{\\partial t} = -H\\frac{\\partial u}{\\partial x} - H\\frac{\\partial v}{\\partial y}$\n",
    "  \n",
    "where the terms on the right-hand side of the momentum equations are the two components of the pressure gradient force (although is is actually the acceleration due to that force), and the two terms on the right side of the continuity equation are the change of the interface due to convergence of the flow along x and y direction."
   ]
  },
  {
   "cell_type": "markdown",
   "metadata": {
    "raw_mimetype": "text/restructuredtext",
    "tags": []
   },
   "source": [
    "## Set the grid\n",
    "\n",
    "the first step is to set up the computational domain. In this case, we want to solve the above equations on a rectangular domain that has a uniform grid spacing where the two spatial directions are always perpendicular to each other. Put more simply, we want to work on a cartesian grid. More precisely, we choose a representation of the prognostic variables such that they are defined on individual cartesian grids which are shifted to each other. This is called a staggered grid and for the problem at hand, the [Arakawa C-grid](https://en.wikipedia.org/wiki/Arakawa_grids#Arakawa_C-grid) is the best choice.\n",
    "\n",
    "To create a set of cartesian grids staggered as a C-grid, we use the `cartesian_c_grid` factory method of the `StaggeredGrid` class."
   ]
  },
  {
   "cell_type": "code",
   "execution_count": null,
   "metadata": {},
   "outputs": [],
   "source": [
    "import numpy as np\n",
    "import matplotlib.pyplot as plt\n",
    "from  multimodemodel import StaggeredGrid\n",
    "\n",
    "nx, ny = 100, 50\n",
    "dx, dy = 1., 1.\n",
    "\n",
    "x = np.arange(0., dx * nx, dx)\n",
    "y = np.arange(0., dy * ny, dy)\n",
    "\n",
    "c_grid = StaggeredGrid.cartesian_c_grid(x=x, y=y)"
   ]
  },
  {
   "cell_type": "markdown",
   "metadata": {},
   "source": [
    "The `c_grid` object provides all the necessary grid information for the sub-grids. E.g. the grid box size of the grid on which $\\eta$ is defined can be accessed like this"
   ]
  },
  {
   "cell_type": "code",
   "execution_count": null,
   "metadata": {},
   "outputs": [],
   "source": [
    "display(c_grid.eta.dx)"
   ]
  },
  {
   "cell_type": "markdown",
   "metadata": {},
   "source": [
    "## Set the initial state\n",
    "\n",
    "The next step is to define the initial state. We want to start from rest ($u = v = 0$) with an intial bump-like interface disturbance. "
   ]
  },
  {
   "cell_type": "code",
   "execution_count": null,
   "metadata": {},
   "outputs": [],
   "source": [
    "import matplotlib.pyplot as plt\n",
    "\n",
    "eta = np.exp(\n",
    "    -(\n",
    "        (c_grid.eta.x - dx * nx / 2) ** 2\n",
    "        + (c_grid.eta.y - dy * ny / 2) ** 2\n",
    "    ) / 10. ** 2\n",
    ")\n",
    "\n",
    "plt.pcolormesh(c_grid.eta.x, c_grid.eta.y, eta, shading='auto')\n",
    "plt.axis('equal')\n",
    "plt.colorbar()"
   ]
  },
  {
   "cell_type": "markdown",
   "metadata": {},
   "source": [
    "The numpy arrays needs to be turned into `Variable` objects which also know about the grid and time they are defined. For the time information, multimodemodel uses `numpy.datetime64` objects. Finally the variables are joined into a state object which are used to express the current state or state changes of the system. Note that, for convenience, we can use `None` as data for variables that contain only zeros."
   ]
  },
  {
   "cell_type": "code",
   "execution_count": null,
   "metadata": {},
   "outputs": [],
   "source": [
    "from multimodemodel import State, Variable\n",
    "\n",
    "t0 = np.datetime64(\"2001-01-01 00:00\")\n",
    "\n",
    "initial_state = State(\n",
    "    u=Variable(None, c_grid.u, t0),\n",
    "    v=Variable(None, c_grid.v, t0),\n",
    "    eta=Variable(eta, c_grid.eta, t0)\n",
    ")"
   ]
  },
  {
   "cell_type": "markdown",
   "metadata": {},
   "source": [
    "## Define the problem to solve\n",
    "\n",
    "To solve the set of equations introduced initially, time stepping methods are applied. These methods need evaluations of all the right-hand sides of the governing equations. Hence, we define a function that is delivering exactly that. The function needs to take a `State` object as first argument and a parameter object (defining constants, etc.) as its second argument. More on the `Parameter` objects later."
   ]
  },
  {
   "cell_type": "code",
   "execution_count": null,
   "metadata": {},
   "outputs": [],
   "source": [
    "from multimodemodel import (\n",
    "    pressure_gradient_i,\n",
    "    pressure_gradient_j,\n",
    "    divergence_i,\n",
    "    divergence_j,\n",
    ")\n",
    "\n",
    "def non_rotating_swe(state, params):\n",
    "    rhs = (\n",
    "        pressure_gradient_i(state, params)\n",
    "        + pressure_gradient_j(state, params)\n",
    "        + divergence_i(state, params)\n",
    "        + divergence_j(state, params)\n",
    "    )\n",
    "    return rhs\n"
   ]
  },
  {
   "cell_type": "markdown",
   "metadata": {},
   "source": [
    "Note that the different contributions, e.g. `pressure_gradient_i`, have the same signature as `non_rotating_swe` and return state increments.\n",
    "\n",
    "Now we need to set some physical constants of the system, e.g. the depth of the fluid `H`. See the docstring of the `Parameter` class for more values to set, although not all are used in this example."
   ]
  },
  {
   "cell_type": "code",
   "execution_count": null,
   "metadata": {},
   "outputs": [],
   "source": [
    "from multimodemodel import Parameters\n",
    "\n",
    "params = Parameters(H=1.)"
   ]
  },
  {
   "cell_type": "markdown",
   "metadata": {},
   "source": [
    "## Solve the problem\n",
    "\n",
    "Now we have all necessary ingredients set up to solve the problem.\n",
    "The only thing we need to do is to choose the time stepping scheme, the 3rd order Adams-Bashforth scheme here, the time step size `step` and the integration time `time`.\n",
    "The final state of the problem is obtained by calling the `integrate` function with all the required arguments."
   ]
  },
  {
   "cell_type": "code",
   "execution_count": null,
   "metadata": {},
   "outputs": [],
   "source": [
    "from multimodemodel import integrate, adams_bashforth3\n",
    "\n",
    "for next_state in integrate(\n",
    "    initial_state, params, RHS=non_rotating_swe,\n",
    "    scheme=adams_bashforth3, step=0.05, time=25.):\n",
    "    pass"
   ]
  },
  {
   "cell_type": "markdown",
   "metadata": {},
   "source": [
    "To visualize the output, we can use the handy `as_dataarray` property of the `Variable` class. It returns a copy of the data and grid information wrapped into a [xarray.DataArray](http://xarray.pydata.org/en/stable/generated/xarray.DataArray.html) which offers among many other things a very usefull and feature rich [plotting API](http://xarray.pydata.org/en/stable/user-guide/plotting.html)."
   ]
  },
  {
   "cell_type": "code",
   "execution_count": null,
   "metadata": {},
   "outputs": [],
   "source": [
    "next_state.eta.as_dataarray.plot(x='x', y='y');"
   ]
  }
 ],
 "metadata": {
  "interpreter": {
   "hash": "a8da8dd8c02878cfa88408434c353b4156f572f1d3338b24eee8198ed4fdb3e9"
  },
  "kernelspec": {
   "display_name": "Python 3 (ipykernel)",
   "language": "python",
   "name": "python3"
  },
  "language_info": {
   "codemirror_mode": {
    "name": "ipython",
    "version": 3
   },
   "file_extension": ".py",
   "mimetype": "text/x-python",
   "name": "python",
   "nbconvert_exporter": "python",
   "pygments_lexer": "ipython3",
   "version": "3.8.8"
  },
  "toc-autonumbering": false,
  "toc-showcode": false,
  "toc-showmarkdowntxt": false,
  "toc-showtags": true
 },
 "nbformat": 4,
 "nbformat_minor": 4
}
