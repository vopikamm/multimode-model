{
 "cells": [
  {
   "cell_type": "markdown",
   "metadata": {},
   "source": [
    "# Spinup of a subtropical gyre in a 1.5 layer ocean\n",
    "\n",
    "In this example we will simulate the spin up of a subtropical gyre, driven by surface wind stress, in a reduced gravity model. This model consists of an active upper layer and an infinitely deep lower layer that is at rest. We use this example to show you how to\n",
    "- adding custom terms to the equation\n",
    "- set up a domain on a sphere\n",
    "- control the computation of the Coriolis parameter\n",
    "\n",
    "But first to the physics. The motion is governed by the following equations\n",
    "\n",
    "- momentum equation along the x direction:\n",
    "  \n",
    "  $\\frac{\\partial u}{\\partial t} = fv -\\frac{g}{r \\cos\\theta}\\frac{\\partial \\eta}{\\partial \\lambda} + \\frac{\\tau}{\\rho_0 H_e} - ru$\n",
    "  \n",
    "- momentum equation along the y direction:\n",
    "\n",
    "  $\\frac{\\partial v}{\\partial t} = -fu -\\frac{g}{r}\\frac{\\partial \\eta}{\\partial \\theta} -rv$\n",
    "\n",
    "- the continuity equation:\n",
    "  \n",
    "  $\\frac{\\partial \\eta}{\\partial t} = -\\frac{H}{r\\cos\\theta}\\left(\\frac{\\partial u}{\\partial \\lambda} + \\frac{\\cos\\theta\\partial v}{\\partial \\theta}\\right)$"
   ]
  },
  {
   "cell_type": "markdown",
   "metadata": {},
   "source": [
    "## Set the grid\n",
    "\n",
    "The problem is now formulated in spherical coordinates, with $\\lambda$ being longiude and $\\theta$ being latitude, but as you will see we do not have to bother too much with that, since all provided terms are written such that they will work on curvilinear coordinates. Thus, the only thing we need to take care of is to create a regular lon/lat grid, which is a member of the family of curvilinear grids. For this type of grid, the coordinates `x` and `y` are in units of degrees and correspond to longitude and latitude."
   ]
  },
  {
   "cell_type": "code",
   "execution_count": null,
   "metadata": {},
   "outputs": [],
   "source": [
    "from multimodemodel import StaggeredGrid\n",
    "\n",
    "c_grid = StaggeredGrid.regular_lat_lon_c_grid(\n",
    "    lon_start=0.0,\n",
    "    lon_end=60.0,\n",
    "    lat_start=20.0,\n",
    "    lat_end=60.0,\n",
    "    nx=60 * 2 + 1,\n",
    "    ny=40 * 2 + 1,\n",
    ")"
   ]
  },
  {
   "cell_type": "markdown",
   "metadata": {},
   "source": [
    "## Define additional tendency terms\n",
    "\n",
    "You might have noticed a new term in the zonal momentum equation, the one involving $\\tau$. This term models the force of the wind exerted on the upper layer of water. To add it to the set of equations we have to specify a function that returns it wrapped in a `State` object. We will use a zonal wind that depends only on latitude with a sinosoidal shape: "
   ]
  },
  {
   "cell_type": "code",
   "execution_count": null,
   "metadata": {},
   "outputs": [],
   "source": [
    "import numpy as np\n",
    "\n",
    "from multimodemodel import (\n",
    "    State, Variable,\n",
    " )\n",
    "\n",
    "tau = 0.01 * np.sin(\n",
    "    np.pi  # convert to radians\n",
    "    * (c_grid.u.y - 40.)  # use latitude of the grid on which u is defined\n",
    "    / 20.\n",
    ")\n",
    "H_e = 300.  # Depth over which the wind forcing acts uniformly, a.k.a. Ekman layer depth\n",
    "\n",
    "def zonal_wind(state, params):\n",
    "    return State(u=Variable(tau / H_e / params.rho_0, c_grid.u, np.datetime64(\"NaT\")))\n"
   ]
  },
  {
   "cell_type": "markdown",
   "metadata": {},
   "source": [
    "You might have noticed that we use `None` as the variables data where we should have all zeros. This is for convenience and performance reasons. `None` will be treated as zeros when adding state objects. However, you need to keep in mind that `None` is a possible value when working with the data. You will see in a second how to deal with that.\n",
    "\n",
    "There are also two other terms in the momentum equation which involve $r$. These terms represent the influence of bottom drag, or better form drag, that is the friction created by the movement of the upper layer over the lower layer which is at rest. To properly handle `None` valued data, we access it via the `safe_data` property of the `Variable` class. We also combine both terms into a single function for convenience. "
   ]
  },
  {
   "cell_type": "code",
   "execution_count": null,
   "metadata": {},
   "outputs": [],
   "source": [
    "\n",
    "def linear_damping(state, params):\n",
    "    r = 1e-6\n",
    "    return State(\n",
    "        u=Variable(-r * state.variables[\"u\"].safe_data, c_grid.u, state.variables[\"u\"].time),\n",
    "        v=Variable(-r * state.variables[\"v\"].safe_data, c_grid.v, state.variables[\"v\"].time),\n",
    "    )"
   ]
  },
  {
   "cell_type": "markdown",
   "metadata": {},
   "source": [
    "## Define the probem to solve\n",
    "\n",
    "As as next step we construct the right-hand side of our set of equations. We will do it a little more sophisticated by using `functools.reduce` together with `operator.add`."
   ]
  },
  {
   "cell_type": "code",
   "execution_count": null,
   "metadata": {},
   "outputs": [],
   "source": [
    "import functools as ft\n",
    "import operator as op\n",
    "from multimodemodel import (\n",
    "    pressure_gradient_i, pressure_gradient_j,\n",
    "    coriolis_i, coriolis_j,\n",
    "    divergence_i, divergence_j,\n",
    ")\n",
    "\n",
    "terms = [\n",
    "    pressure_gradient_i, pressure_gradient_j,\n",
    "    coriolis_i, coriolis_j,\n",
    "    divergence_i, divergence_j,\n",
    "    zonal_wind, linear_damping\n",
    "]\n",
    "\n",
    "def rhs(state, params):\n",
    "    return ft.reduce(op.add, (term(state, params) for term in terms))"
   ]
  },
  {
   "cell_type": "markdown",
   "metadata": {},
   "source": [
    "Now we need to define the simulation parameters. In particular, we want the coriolis parameter to depend on latitude as it would on a rotating sphere. To do this we pass a function as the argument `coriolis_func` to the `Parameters` class. The function is returned by the factory function `f_on_sphere` which takes the spheres angular frequency as argument, about $7.3 \\cdot 10^{-5} s^{-1}$ for Earth, hence it is a closure. There are also other factory functions for various dependencies of `f` on `y`, e.g. `f_constant` and `beta_plane`. We also need to pass the `c_grid` object to provide the necessary coordinate arrays for the computation of the coriolis parameter."
   ]
  },
  {
   "cell_type": "code",
   "execution_count": null,
   "metadata": {},
   "outputs": [],
   "source": [
    "from multimodemodel import Parameters, f_on_sphere\n",
    "params = Parameters(\n",
    "    coriolis_func=f_on_sphere(omega=7.272205e-05),\n",
    "    on_grid=c_grid,\n",
    "    H=500.,\n",
    "    g=2.5**2 / 500.,\n",
    ")"
   ]
  },
  {
   "cell_type": "markdown",
   "metadata": {},
   "source": [
    "## Solve the problem\n",
    "\n",
    "Finally, before we can run the simlulation, we define the time integration strategy. We want to use Adams-Bashforth 3 level scheme for time stepping and start from an undisturbed state at rest."
   ]
  },
  {
   "cell_type": "code",
   "execution_count": null,
   "metadata": {},
   "outputs": [],
   "source": [
    "from multimodemodel import integrate, adams_bashforth3\n",
    "\n",
    "time = 10. * 365. * 24. * 3600.  # ten years\n",
    "step = c_grid.u.dx.min() / 2.5 / 4.  # applying CFL criterion with some safety net\n",
    "t0 = np.datetime64(\"2000-01-01\")\n",
    "\n",
    "\n",
    "model_run = integrate(\n",
    "    State(\n",
    "        u=Variable(None, c_grid.u, t0),\n",
    "        v=Variable(None, c_grid.v, t0),\n",
    "        eta=Variable(None, c_grid.eta, t0)\n",
    "    ),\n",
    "    params,\n",
    "    RHS=rhs,\n",
    "    scheme=adams_bashforth3,\n",
    "    step=step,\n",
    "    time=time,\n",
    ")"
   ]
  },
  {
   "cell_type": "markdown",
   "metadata": {},
   "source": [
    "To save the output, we keep track of the time step. This allows to write out 6 evenly spaced snapshots of the interface displacement `eta`. "
   ]
  },
  {
   "cell_type": "code",
   "execution_count": null,
   "metadata": {},
   "outputs": [],
   "source": [
    "# number of time steps\n",
    "Nt = time // step\n",
    "\n",
    "output = []\n",
    "\n",
    "for i, next_state in enumerate(model_run):\n",
    "    if i % (Nt // 5) == 0:\n",
    "        output.append(next_state.eta)"
   ]
  },
  {
   "cell_type": "markdown",
   "metadata": {},
   "source": [
    "## Visualize the output\n",
    "\n",
    "The output is converted to a single `xarray.DataArray` for easier visualization."
   ]
  },
  {
   "cell_type": "code",
   "execution_count": null,
   "metadata": {},
   "outputs": [],
   "source": [
    "import xarray as xr\n",
    "\n",
    "eta = xr.combine_by_coords([v.as_dataarray for v in output])\n",
    "\n",
    "eta.plot(x='x', y='y', col=\"time\", col_wrap=3);"
   ]
  },
  {
   "cell_type": "code",
   "execution_count": null,
   "metadata": {},
   "outputs": [],
   "source": [
    "eta.isel(j=40).plot(hue=\"time\");"
   ]
  }
 ],
 "metadata": {
  "interpreter": {
   "hash": "a8da8dd8c02878cfa88408434c353b4156f572f1d3338b24eee8198ed4fdb3e9"
  },
  "kernelspec": {
   "display_name": "Python 3 (ipykernel)",
   "language": "python",
   "name": "python3"
  },
  "language_info": {
   "codemirror_mode": {
    "name": "ipython",
    "version": 3
   },
   "file_extension": ".py",
   "mimetype": "text/x-python",
   "name": "python",
   "nbconvert_exporter": "python",
   "pygments_lexer": "ipython3",
   "version": "3.8.8"
  }
 },
 "nbformat": 4,
 "nbformat_minor": 4
}
