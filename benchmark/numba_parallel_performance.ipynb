{
 "cells": [
  {
   "cell_type": "code",
   "execution_count": 1,
   "metadata": {},
   "outputs": [],
   "source": [
    "import numpy as np\n",
    "import time as t\n",
    "import numba\n",
    "from multimodemodel import _cyclic_shift"
   ]
  },
  {
   "cell_type": "code",
   "execution_count": 2,
   "metadata": {},
   "outputs": [],
   "source": [
    "@numba.njit(inline='always')  # type: ignore\n",
    "def _advection_momentum_u(\n",
    "    i: int,\n",
    "    j: int,\n",
    "    k: int,\n",
    "    m: int,\n",
    "    n: int,\n",
    "    ni: int,\n",
    "    nj: int,\n",
    "    nk: int,\n",
    "    u: np.ndarray,\n",
    "    v: np.ndarray,\n",
    "    w: np.ndarray,\n",
    "    mask_u: np.ndarray,\n",
    "    mask_v: np.ndarray,\n",
    "    mask_q: np.ndarray,\n",
    "    dx_u: np.ndarray,\n",
    "    dy_u: np.ndarray,\n",
    "    dx_v: np.ndarray,\n",
    "    lbc: int,\n",
    "    ppp: np.ndarray,\n",
    "    ppw: np.ndarray,\n",
    ") -> float:  # pragma: no cover\n",
    "    \"\"\"Compute the advection of zonal momentum.\"\"\"\n",
    "    ip1 = _cyclic_shift(i, ni, 1)\n",
    "    im1 = _cyclic_shift(i, ni, -1)\n",
    "    jp1 = _cyclic_shift(j, nj, 1)\n",
    "    jm1 = _cyclic_shift(j, nj, -1)\n",
    "\n",
    "    if mask_q[k, j, i] == 0:\n",
    "        lbc = lbc\n",
    "    else:\n",
    "        lbc = 1\n",
    "\n",
    "    return (\n",
    "        ppp[n, m, k]\n",
    "        * mask_u[k, j, i]\n",
    "        * (\n",
    "            (\n",
    "                dy_u[j, ip1] * mask_u[n, j, ip1] * u[n, j, ip1]\n",
    "                + dy_u[j, i] * mask_u[n, j, i] * u[n, j, i]\n",
    "            )\n",
    "            * (mask_u[m, j, ip1] * u[m, j, ip1] + mask_u[m, j, i] * u[m, j, i])\n",
    "            - (\n",
    "                dy_u[j, i] * mask_u[n, j, i] * u[n, j, i]\n",
    "                + dy_u[j, im1] * mask_u[n, j, im1] * u[n, j, im1]\n",
    "            )\n",
    "            * (mask_u[m, j, i] * u[m, j, i] + mask_u[m, j, im1] * u[m, j, im1])\n",
    "            + (\n",
    "                dx_v[jp1, i] * mask_v[n, jp1, i] * v[n, jp1, i]\n",
    "                + dx_v[jp1, im1] * mask_v[n, jp1, im1] * v[n, jp1, im1]\n",
    "            )\n",
    "            * (mask_u[m, jp1, i] * u[m, jp1, i] + mask_u[m, j, i] * u[m, j, i])\n",
    "            - (\n",
    "                dx_v[j, i] * mask_v[n, j, i] * v[n, j, i]\n",
    "                + dx_v[j, im1] * mask_v[n, j, im1] * v[n, j, im1]\n",
    "            )\n",
    "            * (lbc * mask_u[m, j, i] * u[m, j, i] + mask_u[m, jm1, i] * u[m, jm1, i])\n",
    "        )\n",
    "        / dx_u[j, i]\n",
    "        / dy_u[j, i]\n",
    "        / 4\n",
    "        + ppw[n, m, k] * mask_u[m, j, i] * u[m, j, i] * (w[n, j, i] + w[n, j, im1]) / 2\n",
    "    )"
   ]
  },
  {
   "cell_type": "code",
   "execution_count": 3,
   "metadata": {},
   "outputs": [],
   "source": [
    "@numba.njit(parallel=True)  # type: ignore\n",
    "def _numba_double_sum_parallel_over_nm_preallocated(args):\n",
    "    ni, nj, nk = args[0], args[1], args[2]\n",
    "    result = np.empty((nk * nk, nk, nj, ni))\n",
    "    for ind in numba.prange(nk * nk):\n",
    "        n, m = divmod(ind, nk)\n",
    "        n = int(n)\n",
    "        m = int(m)\n",
    "        for k in range(nk):\n",
    "            for j in range(nj):\n",
    "                for i in range(ni):\n",
    "                    result[ind, k, j, i] = _advection_momentum_u(\n",
    "                        i,\n",
    "                        j,\n",
    "                        k,\n",
    "                        m,\n",
    "                        n,\n",
    "                        ni,\n",
    "                        nj,\n",
    "                        nk,\n",
    "                        args[3],\n",
    "                        args[4],\n",
    "                        args[5],\n",
    "                        args[6],\n",
    "                        args[7],\n",
    "                        args[8],\n",
    "                        args[9],\n",
    "                        args[10],\n",
    "                        args[11],\n",
    "                        args[12],\n",
    "                        args[13],\n",
    "                        args[14],\n",
    "                    )\n",
    "    \n",
    "    return result.sum(axis=0)"
   ]
  },
  {
   "cell_type": "code",
   "execution_count": 4,
   "metadata": {},
   "outputs": [],
   "source": [
    "@numba.njit(parallel=True)  # type: ignore\n",
    "def _numba_double_sum_parallel_over_nm(args):\n",
    "    ni, nj, nk = args[0], args[1], args[2]\n",
    "    result = np.zeros((nk, nj, ni))\n",
    "    for ind in numba.prange(nk * nk):\n",
    "        n, m = divmod(ind, nk)\n",
    "        n = int(n)\n",
    "        m = int(m)\n",
    "        pre_result = np.empty((nk, nj, ni))\n",
    "        for k in range(nk):\n",
    "            for j in range(nj):\n",
    "                for i in range(ni):\n",
    "                    pre_result[k, j, i] = _advection_momentum_u(\n",
    "                        i,\n",
    "                        j,\n",
    "                        k,\n",
    "                        m,\n",
    "                        n,\n",
    "                        ni,\n",
    "                        nj,\n",
    "                        nk,\n",
    "                        args[3],\n",
    "                        args[4],\n",
    "                        args[5],\n",
    "                        args[6],\n",
    "                        args[7],\n",
    "                        args[8],\n",
    "                        args[9],\n",
    "                        args[10],\n",
    "                        args[11],\n",
    "                        args[12],\n",
    "                        args[13],\n",
    "                        args[14],\n",
    "                    )\n",
    "        result += pre_result\n",
    "    return result"
   ]
  },
  {
   "cell_type": "code",
   "execution_count": 5,
   "metadata": {},
   "outputs": [],
   "source": [
    "@numba.njit(parallel=True)  # type: ignore\n",
    "def _numba_double_sum_parallel_over_k(args):\n",
    "    ni, nj, nk = args[0], args[1], args[2]\n",
    "    result = np.zeros((nk, nj, ni))\n",
    "    pre_result = np.empty((nk, nj, ni))\n",
    "    for n in range(nk):\n",
    "        for m in range(nk):\n",
    "            for k in numba.prange(nk):\n",
    "                for j in range(nj):\n",
    "                    for i in range(ni):\n",
    "                        pre_result[k, j, i] = _advection_momentum_u(\n",
    "                            i,\n",
    "                            j,\n",
    "                            k,\n",
    "                            m,\n",
    "                            n,\n",
    "                            ni,\n",
    "                            nj,\n",
    "                            nk,\n",
    "                            args[3],\n",
    "                            args[4],\n",
    "                            args[5],\n",
    "                            args[6],\n",
    "                            args[7],\n",
    "                            args[8],\n",
    "                            args[9],\n",
    "                            args[10],\n",
    "                            args[11],\n",
    "                            args[12],\n",
    "                            args[13],\n",
    "                            args[14],\n",
    "                        )\n",
    "            result += pre_result\n",
    "    return result"
   ]
  },
  {
   "cell_type": "code",
   "execution_count": 6,
   "metadata": {},
   "outputs": [],
   "source": [
    "from  multimodemodel import StaggeredGrid\n",
    "\n",
    "nmodes = 16\n",
    "\n",
    "c_grid = StaggeredGrid.regular_lat_lon_c_grid(\n",
    "    lon_start=-5.0,\n",
    "    lon_end=5.0,\n",
    "    lat_start=-5.0,\n",
    "    lat_end=5.0,\n",
    "    nx=10 * 4 + 1,\n",
    "    ny=10 * 4 + 1,\n",
    "    z = np.arange(nmodes)\n",
    ")"
   ]
  },
  {
   "cell_type": "code",
   "execution_count": 7,
   "metadata": {},
   "outputs": [],
   "source": [
    "from multimodemodel import State, Variable\n",
    "t0 = np.datetime64(\"2000-01-01\")\n",
    "state_zero = State(\n",
    "    u=Variable(None, c_grid.u, t0),\n",
    "    v=Variable(None, c_grid.v, t0),\n",
    "    eta=Variable(None, c_grid.eta, t0),\n",
    "    q=Variable(None, c_grid.q, t0)\n",
    ")\n",
    "\n",
    "state_zero.set_diagnostic_variable(w=Variable(None, c_grid.eta, t0))\n",
    "\n",
    "args = (\n",
    "    c_grid.u.shape[c_grid.u.dim_x],\n",
    "    c_grid.u.shape[c_grid.u.dim_y],\n",
    "    c_grid.u.shape[c_grid.u.dim_z],\n",
    "    state_zero.variables[\"u\"].safe_data,\n",
    "    state_zero.variables[\"v\"].safe_data,\n",
    "    state_zero.diagnostic_variables[\"w\"].safe_data,\n",
    "    state_zero.variables[\"u\"].grid.mask,\n",
    "    state_zero.variables[\"v\"].grid.mask,\n",
    "    state_zero.variables[\"q\"].grid.mask,\n",
    "    state_zero.variables[\"u\"].grid.dx,\n",
    "    state_zero.variables[\"u\"].grid.dy,\n",
    "    state_zero.variables[\"v\"].grid.dx,\n",
    "    0,\n",
    "    np.ones((c_grid.u.shape[c_grid.u.dim_z], c_grid.u.shape[c_grid.u.dim_z], c_grid.u.shape[c_grid.u.dim_z])),\n",
    "    np.ones((c_grid.u.shape[c_grid.u.dim_z], c_grid.u.shape[c_grid.u.dim_z], c_grid.u.shape[c_grid.u.dim_z])),\n",
    ")"
   ]
  },
  {
   "cell_type": "code",
   "execution_count": 8,
   "metadata": {},
   "outputs": [],
   "source": [
    "numba.set_num_threads(8)"
   ]
  },
  {
   "cell_type": "code",
   "execution_count": 9,
   "metadata": {},
   "outputs": [
    {
     "name": "stdout",
     "output_type": "stream",
     "text": [
      "nrt_mstats(alloc=19, free=16, mi_alloc=19, mi_free=16)\n",
      "nrt_mstats(alloc=49, free=43, mi_alloc=49, mi_free=43)\n",
      "nrt_mstats(alloc=64, free=58, mi_alloc=63, mi_free=57)\n"
     ]
    }
   ],
   "source": [
    "_numba_double_sum_parallel_over_k(args);\n",
    "print(numba.core.runtime.rtsys.get_allocation_stats())\n",
    "_numba_double_sum_parallel_over_nm(args);\n",
    "print(numba.core.runtime.rtsys.get_allocation_stats())\n",
    "_numba_double_sum_parallel_over_nm_preallocated(args);\n",
    "print(numba.core.runtime.rtsys.get_allocation_stats())"
   ]
  },
  {
   "cell_type": "code",
   "execution_count": 10,
   "metadata": {},
   "outputs": [
    {
     "name": "stdout",
     "output_type": "stream",
     "text": [
      "55.5 ms ± 6.94 ms per loop (mean ± std. dev. of 20 runs, 10 loops each)\n"
     ]
    },
    {
     "data": {
      "text/plain": [
       "<TimeitResult : 55.5 ms ± 6.94 ms per loop (mean ± std. dev. of 20 runs, 10 loops each)>"
      ]
     },
     "execution_count": 10,
     "metadata": {},
     "output_type": "execute_result"
    }
   ],
   "source": [
    "%%timeit -n10 -r20 -o \n",
    "_numba_double_sum_parallel_over_k(args)"
   ]
  },
  {
   "cell_type": "code",
   "execution_count": 12,
   "metadata": {},
   "outputs": [
    {
     "name": "stdout",
     "output_type": "stream",
     "text": [
      "32.1 ms ± 3.34 ms per loop (mean ± std. dev. of 20 runs, 10 loops each)\n"
     ]
    },
    {
     "data": {
      "text/plain": [
       "<TimeitResult : 32.1 ms ± 3.34 ms per loop (mean ± std. dev. of 20 runs, 10 loops each)>"
      ]
     },
     "execution_count": 12,
     "metadata": {},
     "output_type": "execute_result"
    }
   ],
   "source": [
    "%%timeit -n10 -r20 -o \n",
    "_numba_double_sum_parallel_over_nm(args)"
   ]
  },
  {
   "cell_type": "code",
   "execution_count": 13,
   "metadata": {},
   "outputs": [
    {
     "name": "stdout",
     "output_type": "stream",
     "text": [
      "68 ms ± 11.9 ms per loop (mean ± std. dev. of 20 runs, 10 loops each)\n"
     ]
    },
    {
     "data": {
      "text/plain": [
       "<TimeitResult : 68 ms ± 11.9 ms per loop (mean ± std. dev. of 20 runs, 10 loops each)>"
      ]
     },
     "execution_count": 13,
     "metadata": {},
     "output_type": "execute_result"
    }
   ],
   "source": [
    "%%timeit -n10 -r20 -o \n",
    "_numba_double_sum_parallel_over_nm_preallocated(args)"
   ]
  },
  {
   "cell_type": "code",
   "execution_count": null,
   "metadata": {},
   "outputs": [],
   "source": []
  }
 ],
 "metadata": {
  "interpreter": {
   "hash": "31f2aee4e71d21fbe5cf8b01ff0e069b9275f58929596ceb00d14d90e3e16cd6"
  },
  "kernelspec": {
   "display_name": "Python 3.8.10 64-bit",
   "language": "python",
   "name": "python3"
  },
  "language_info": {
   "codemirror_mode": {
    "name": "ipython",
    "version": 3
   },
   "file_extension": ".py",
   "mimetype": "text/x-python",
   "name": "python",
   "nbconvert_exporter": "python",
   "pygments_lexer": "ipython3",
   "version": "3.9.6"
  },
  "orig_nbformat": 4
 },
 "nbformat": 4,
 "nbformat_minor": 2
}
