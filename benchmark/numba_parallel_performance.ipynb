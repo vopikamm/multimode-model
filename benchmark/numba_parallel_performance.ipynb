{
 "cells": [
  {
   "cell_type": "code",
   "execution_count": 1,
   "metadata": {},
   "outputs": [],
   "source": [
    "import numpy as np\n",
    "import time as t\n",
    "import numba as nb\n",
    "from multimodemodel import _cyclic_shift\n",
    "import numba.core.runtime as rt\n",
    "from inspect import signature"
   ]
  },
  {
   "cell_type": "code",
   "execution_count": 2,
   "metadata": {},
   "outputs": [],
   "source": [
    "@nb.njit(inline='always')  # type: ignore\n",
    "def _advection_momentum_u(\n",
    "    i: int,\n",
    "    j: int,\n",
    "    k: int,\n",
    "    m: int,\n",
    "    n: int,\n",
    "    ni: int,\n",
    "    nj: int,\n",
    "    nk: int,\n",
    "    lbc: int,\n",
    "    u: np.ndarray,\n",
    "    v: np.ndarray,\n",
    "    w: np.ndarray,\n",
    "    mask_u: np.ndarray,\n",
    "    mask_v: np.ndarray,\n",
    "    mask_q: np.ndarray,\n",
    "    dx_u: np.ndarray,\n",
    "    dy_u: np.ndarray,\n",
    "    dx_v: np.ndarray,\n",
    "    ppp: np.ndarray,\n",
    "    ppw: np.ndarray,\n",
    ") -> float:  # pragma: no cover\n",
    "    \"\"\"Compute the advection of zonal momentum.\"\"\"\n",
    "    ip1 = _cyclic_shift(i, ni, 1)\n",
    "    im1 = _cyclic_shift(i, ni, -1)\n",
    "    jp1 = _cyclic_shift(j, nj, 1)\n",
    "    jm1 = _cyclic_shift(j, nj, -1)\n",
    "\n",
    "    if mask_q[k, j, i] == 0:\n",
    "        lbc = lbc\n",
    "    else:\n",
    "        lbc = 1\n",
    "\n",
    "    return (\n",
    "        ppp[n, m, k]\n",
    "        * mask_u[k, j, i]\n",
    "        * (\n",
    "            (\n",
    "                dy_u[j, ip1] * mask_u[n, j, ip1] * u[n, j, ip1]\n",
    "                + dy_u[j, i] * mask_u[n, j, i] * u[n, j, i]\n",
    "            )\n",
    "            * (mask_u[m, j, ip1] * u[m, j, ip1] + mask_u[m, j, i] * u[m, j, i])\n",
    "            - (\n",
    "                dy_u[j, i] * mask_u[n, j, i] * u[n, j, i]\n",
    "                + dy_u[j, im1] * mask_u[n, j, im1] * u[n, j, im1]\n",
    "            )\n",
    "            * (mask_u[m, j, i] * u[m, j, i] + mask_u[m, j, im1] * u[m, j, im1])\n",
    "            + (\n",
    "                dx_v[jp1, i] * mask_v[n, jp1, i] * v[n, jp1, i]\n",
    "                + dx_v[jp1, im1] * mask_v[n, jp1, im1] * v[n, jp1, im1]\n",
    "            )\n",
    "            * (mask_u[m, jp1, i] * u[m, jp1, i] + mask_u[m, j, i] * u[m, j, i])\n",
    "            - (\n",
    "                dx_v[j, i] * mask_v[n, j, i] * v[n, j, i]\n",
    "                + dx_v[j, im1] * mask_v[n, j, im1] * v[n, j, im1]\n",
    "            )\n",
    "            * (lbc * mask_u[m, j, i] * u[m, j, i] + mask_u[m, jm1, i] * u[m, jm1, i])\n",
    "        )\n",
    "        / dx_u[j, i]\n",
    "        / dy_u[j, i]\n",
    "        / 4\n",
    "        + ppw[n, m, k] * mask_u[m, j, i] * u[m, j, i] * (w[n, j, i] + w[n, j, im1]) / 2\n",
    "    )"
   ]
  },
  {
   "cell_type": "code",
   "execution_count": 3,
   "metadata": {},
   "outputs": [],
   "source": [
    "@nb.njit(parallel=True)  # type: ignore\n",
    "def _numba_double_sum_parallel_over_nm_preallocated(args):\n",
    "    ni, nj, nk = args[0], args[1], args[2]\n",
    "    result = np.empty((nk * nk, nk, nj, ni))\n",
    "    for ind in nb.prange(nk * nk):\n",
    "        n, m = divmod(ind, nk)\n",
    "        n = int(n)\n",
    "        m = int(m)\n",
    "        for k in range(nk):\n",
    "            for j in range(nj):\n",
    "                for i in range(ni):\n",
    "                    result[ind, k, j, i] = _advection_momentum_u(\n",
    "                        i,\n",
    "                        j,\n",
    "                        k,\n",
    "                        m,\n",
    "                        n,\n",
    "                        ni,\n",
    "                        nj,\n",
    "                        nk,\n",
    "                        args[3],\n",
    "                        args[4],\n",
    "                        args[5],\n",
    "                        args[6],\n",
    "                        args[7],\n",
    "                        args[8],\n",
    "                        args[9],\n",
    "                        args[10],\n",
    "                        args[11],\n",
    "                        args[12],\n",
    "                        args[13],\n",
    "                        args[14],\n",
    "                    )\n",
    "    \n",
    "    return result.sum(axis=0)"
   ]
  },
  {
   "cell_type": "code",
   "execution_count": 4,
   "metadata": {},
   "outputs": [],
   "source": [
    "@nb.njit(parallel=True)  # type: ignore\n",
    "def _numba_double_sum_parallel_over_nm(args):\n",
    "    ni, nj, nk = args[0], args[1], args[2]\n",
    "    result = np.zeros((nk, nj, ni))\n",
    "    for ind in nb.prange(nk * nk):\n",
    "        n, m = divmod(ind, nk)\n",
    "        n = int(n)\n",
    "        m = int(m)\n",
    "        pre_result = np.empty((nk, nj, ni))\n",
    "        for k in range(nk):\n",
    "            for j in range(nj):\n",
    "                for i in range(ni):\n",
    "                    pre_result[k, j, i] = _advection_momentum_u(\n",
    "                        i,\n",
    "                        j,\n",
    "                        k,\n",
    "                        m,\n",
    "                        n,\n",
    "                        ni,\n",
    "                        nj,\n",
    "                        nk,\n",
    "                        args[3],\n",
    "                        args[4],\n",
    "                        args[5],\n",
    "                        args[6],\n",
    "                        args[7],\n",
    "                        args[8],\n",
    "                        args[9],\n",
    "                        args[10],\n",
    "                        args[11],\n",
    "                        args[12],\n",
    "                        args[13],\n",
    "                        args[14],\n",
    "                    )\n",
    "        result += pre_result\n",
    "    return result"
   ]
  },
  {
   "cell_type": "code",
   "execution_count": 5,
   "metadata": {},
   "outputs": [],
   "source": [
    "@nb.njit(parallel=True)  # type: ignore\n",
    "def _numba_double_sum_parallel_over_k(args):\n",
    "    ni, nj, nk = args[0], args[1], args[2]\n",
    "    result = np.zeros((nk, nj, ni))\n",
    "    pre_result = np.empty((nk, nj, ni))\n",
    "    for n in range(nk):\n",
    "        for m in range(nk):\n",
    "            for k in nb.prange(nk):\n",
    "                for j in range(nj):\n",
    "                    for i in range(ni):\n",
    "                        pre_result[k, j, i] = _advection_momentum_u(\n",
    "                            i,\n",
    "                            j,\n",
    "                            k,\n",
    "                            m,\n",
    "                            n,\n",
    "                            ni,\n",
    "                            nj,\n",
    "                            nk,\n",
    "                            args[3],\n",
    "                            args[4],\n",
    "                            args[5],\n",
    "                            args[6],\n",
    "                            args[7],\n",
    "                            args[8],\n",
    "                            args[9],\n",
    "                            args[10],\n",
    "                            args[11],\n",
    "                            args[12],\n",
    "                            args[13],\n",
    "                            args[14],\n",
    "                        )\n",
    "            result += pre_result\n",
    "    return result"
   ]
  },
  {
   "cell_type": "code",
   "execution_count": 6,
   "metadata": {},
   "outputs": [],
   "source": [
    "@nb.guvectorize([(\n",
    "    nb.int64, nb.int64, nb.int64, nb.int64, nb.f8[:,:,::1], nb.f8[:,:,::1], nb.f8[:,:,::1], nb.f8[:,:,::1], nb.f8[:,:,::1],\n",
    "    nb.f8[:,:,::1], nb.f8[:,::1],  nb.f8[:,::1],  nb.f8[:,::1],  nb.f8[:,:,::1],  nb.f8[:,:,::1],  nb.f8[:,:,::1]\n",
    ")],\n",
    "'(),(),(),(),(k,j,i),(k,j,i),(k,j,i),(k,j,i),(k,j,i),(k,j,i),(j,i),(j,i),(j,i),(k,k,k),(k,k,k)->(k,j,i)',\n",
    "nopython=True,\n",
    "target='parallel')\n",
    "def _numba_double_sum_gu(\n",
    "    ni,\n",
    "    nj,\n",
    "    nk,\n",
    "    lbc,\n",
    "    u,\n",
    "    v,\n",
    "    w,\n",
    "    mask_u,\n",
    "    mask_v,\n",
    "    mask_q,\n",
    "    dx_u,\n",
    "    dy_u,\n",
    "    dx_v,\n",
    "    ppp,\n",
    "    ppw,\n",
    "    res,\n",
    "):\n",
    "    for ind in range(nk * nk):\n",
    "        n, m = divmod(ind, nk)\n",
    "        n = int(n)\n",
    "        m = int(m)\n",
    "        for k in range(nk):\n",
    "            for j in range(nj):\n",
    "                for i in range(ni):\n",
    "                    res[k, j, i] += _advection_momentum_u(\n",
    "                        i,\n",
    "                        j,\n",
    "                        k,\n",
    "                        m,\n",
    "                        n,\n",
    "                        ni,\n",
    "                        nj,\n",
    "                        nk,\n",
    "                        lbc,\n",
    "                        u,\n",
    "                        v,\n",
    "                        w,\n",
    "                        mask_u,\n",
    "                        mask_v,\n",
    "                        mask_q,\n",
    "                        dx_u,\n",
    "                        dy_u,\n",
    "                        dx_v,\n",
    "                        ppp,\n",
    "                        ppw,\n",
    "                    )"
   ]
  },
  {
   "cell_type": "code",
   "execution_count": 7,
   "metadata": {},
   "outputs": [],
   "source": [
    "from  multimodemodel import StaggeredGrid\n",
    "\n",
    "nmodes = 16\n",
    "\n",
    "c_grid = StaggeredGrid.regular_lat_lon_c_grid(\n",
    "    lon_start=-5.0,\n",
    "    lon_end=5.0,\n",
    "    lat_start=-5.0,\n",
    "    lat_end=5.0,\n",
    "    nx=10 * 4 + 1,\n",
    "    ny=10 * 4 + 1,\n",
    "    z = np.arange(nmodes)\n",
    ")"
   ]
  },
  {
   "cell_type": "code",
   "execution_count": 8,
   "metadata": {},
   "outputs": [],
   "source": [
    "from multimodemodel import State, Variable\n",
    "t0 = np.datetime64(\"2000-01-01\")\n",
    "state_zero = State(\n",
    "    u=Variable(None, c_grid.u, t0),\n",
    "    v=Variable(None, c_grid.v, t0),\n",
    "    eta=Variable(None, c_grid.eta, t0),\n",
    "    q=Variable(None, c_grid.q, t0)\n",
    ")\n",
    "\n",
    "state_zero.set_diagnostic_variable(w=Variable(None, c_grid.eta, t0))\n",
    "\n",
    "args = (\n",
    "    0,\n",
    "    c_grid.u.shape[c_grid.u.dim_x],\n",
    "    c_grid.u.shape[c_grid.u.dim_y],\n",
    "    c_grid.u.shape[c_grid.u.dim_z],\n",
    "    state_zero.variables[\"u\"].safe_data,\n",
    "    state_zero.variables[\"v\"].safe_data,\n",
    "    state_zero.diagnostic_variables[\"w\"].safe_data,\n",
    "    state_zero.variables[\"u\"].grid.mask,\n",
    "    state_zero.variables[\"v\"].grid.mask,\n",
    "    state_zero.variables[\"q\"].grid.mask,\n",
    "    state_zero.variables[\"u\"].grid.dx,\n",
    "    state_zero.variables[\"u\"].grid.dy,\n",
    "    state_zero.variables[\"v\"].grid.dx,\n",
    "    np.ones((c_grid.u.shape[c_grid.u.dim_z], c_grid.u.shape[c_grid.u.dim_z], c_grid.u.shape[c_grid.u.dim_z])),\n",
    "    np.ones((c_grid.u.shape[c_grid.u.dim_z], c_grid.u.shape[c_grid.u.dim_z], c_grid.u.shape[c_grid.u.dim_z])),\n",
    ")"
   ]
  },
  {
   "cell_type": "code",
   "execution_count": 9,
   "metadata": {},
   "outputs": [],
   "source": [
    "nb.set_num_threads(8)"
   ]
  },
  {
   "cell_type": "code",
   "execution_count": 10,
   "metadata": {},
   "outputs": [],
   "source": [
    "def allocation_difference(func, args):\n",
    "   a = rt.rtsys.get_allocation_stats().alloc - rt.rtsys.get_allocation_stats().free\n",
    "   if type(func)==np.ufunc:\n",
    "      func(*args)\n",
    "   else:\n",
    "      func(args)\n",
    "   b =  rt.rtsys.get_allocation_stats().alloc - rt.rtsys.get_allocation_stats().free\n",
    "   return b-a"
   ]
  },
  {
   "cell_type": "code",
   "execution_count": 11,
   "metadata": {},
   "outputs": [
    {
     "data": {
      "text/plain": [
       "0"
      ]
     },
     "execution_count": 11,
     "metadata": {},
     "output_type": "execute_result"
    }
   ],
   "source": [
    "allocation_difference(_numba_double_sum_gu, args)"
   ]
  },
  {
   "cell_type": "code",
   "execution_count": 12,
   "metadata": {},
   "outputs": [
    {
     "data": {
      "text/plain": [
       "0"
      ]
     },
     "execution_count": 12,
     "metadata": {},
     "output_type": "execute_result"
    }
   ],
   "source": [
    "allocation_difference(_numba_double_sum_parallel_over_k, args)"
   ]
  },
  {
   "cell_type": "code",
   "execution_count": 13,
   "metadata": {},
   "outputs": [
    {
     "data": {
      "text/plain": [
       "3"
      ]
     },
     "execution_count": 13,
     "metadata": {},
     "output_type": "execute_result"
    }
   ],
   "source": [
    "allocation_difference(_numba_double_sum_parallel_over_nm, args)"
   ]
  },
  {
   "cell_type": "code",
   "execution_count": 14,
   "metadata": {},
   "outputs": [
    {
     "data": {
      "text/plain": [
       "0"
      ]
     },
     "execution_count": 14,
     "metadata": {},
     "output_type": "execute_result"
    }
   ],
   "source": [
    "allocation_difference(_numba_double_sum_parallel_over_nm_preallocated, args)"
   ]
  },
  {
   "cell_type": "code",
   "execution_count": 15,
   "metadata": {},
   "outputs": [
    {
     "name": "stdout",
     "output_type": "stream",
     "text": [
      "16.9 ms ± 466 µs per loop (mean ± std. dev. of 20 runs, 10 loops each)\n"
     ]
    },
    {
     "data": {
      "text/plain": [
       "<TimeitResult : 16.9 ms ± 466 µs per loop (mean ± std. dev. of 20 runs, 10 loops each)>"
      ]
     },
     "execution_count": 15,
     "metadata": {},
     "output_type": "execute_result"
    }
   ],
   "source": [
    "%%timeit -n10 -r20 -o \n",
    "_numba_double_sum_parallel_over_k(args)"
   ]
  },
  {
   "cell_type": "code",
   "execution_count": 16,
   "metadata": {},
   "outputs": [
    {
     "name": "stdout",
     "output_type": "stream",
     "text": [
      "1.41 ms ± 275 µs per loop (mean ± std. dev. of 20 runs, 10 loops each)\n"
     ]
    },
    {
     "data": {
      "text/plain": [
       "<TimeitResult : 1.41 ms ± 275 µs per loop (mean ± std. dev. of 20 runs, 10 loops each)>"
      ]
     },
     "execution_count": 16,
     "metadata": {},
     "output_type": "execute_result"
    }
   ],
   "source": [
    "%%timeit -n10 -r20 -o \n",
    "_numba_double_sum_parallel_over_nm(args)"
   ]
  },
  {
   "cell_type": "code",
   "execution_count": 17,
   "metadata": {},
   "outputs": [
    {
     "name": "stdout",
     "output_type": "stream",
     "text": [
      "2.19 ms ± 195 µs per loop (mean ± std. dev. of 20 runs, 10 loops each)\n"
     ]
    },
    {
     "data": {
      "text/plain": [
       "<TimeitResult : 2.19 ms ± 195 µs per loop (mean ± std. dev. of 20 runs, 10 loops each)>"
      ]
     },
     "execution_count": 17,
     "metadata": {},
     "output_type": "execute_result"
    }
   ],
   "source": [
    "%%timeit -n10 -r20 -o \n",
    "_numba_double_sum_parallel_over_nm_preallocated(args)"
   ]
  },
  {
   "cell_type": "code",
   "execution_count": 18,
   "metadata": {},
   "outputs": [
    {
     "name": "stdout",
     "output_type": "stream",
     "text": [
      "9.61 ms ± 667 µs per loop (mean ± std. dev. of 20 runs, 10 loops each)\n"
     ]
    },
    {
     "data": {
      "text/plain": [
       "<TimeitResult : 9.61 ms ± 667 µs per loop (mean ± std. dev. of 20 runs, 10 loops each)>"
      ]
     },
     "execution_count": 18,
     "metadata": {},
     "output_type": "execute_result"
    }
   ],
   "source": [
    "%%timeit -n10 -r20 -o \n",
    "_numba_double_sum_gu(*args)"
   ]
  }
 ],
 "metadata": {
  "interpreter": {
   "hash": "31f2aee4e71d21fbe5cf8b01ff0e069b9275f58929596ceb00d14d90e3e16cd6"
  },
  "kernelspec": {
   "display_name": "Python 3.8.10 64-bit",
   "language": "python",
   "name": "python3"
  },
  "language_info": {
   "codemirror_mode": {
    "name": "ipython",
    "version": 3
   },
   "file_extension": ".py",
   "mimetype": "text/x-python",
   "name": "python",
   "nbconvert_exporter": "python",
   "pygments_lexer": "ipython3",
   "version": "3.9.6"
  },
  "orig_nbformat": 4
 },
 "nbformat": 4,
 "nbformat_minor": 2
}
